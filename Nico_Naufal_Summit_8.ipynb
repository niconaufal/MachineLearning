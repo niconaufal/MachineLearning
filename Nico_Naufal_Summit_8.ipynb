{
  "nbformat": 4,
  "nbformat_minor": 5,
  "metadata": {
    "kernelspec": {
      "display_name": "Python [conda env:my_env]",
      "language": "python",
      "name": "conda-env-my_env-py"
    },
    "language_info": {
      "codemirror_mode": {
        "name": "ipython",
        "version": 3
      },
      "file_extension": ".py",
      "mimetype": "text/x-python",
      "name": "python",
      "nbconvert_exporter": "python",
      "pygments_lexer": "ipython3",
      "version": "3.7.6"
    },
    "varInspector": {
      "cols": {
        "lenName": 16,
        "lenType": 16,
        "lenVar": 40
      },
      "kernels_config": {
        "python": {
          "delete_cmd_postfix": "",
          "delete_cmd_prefix": "del ",
          "library": "var_list.py",
          "varRefreshCmd": "print(var_dic_list())"
        },
        "r": {
          "delete_cmd_postfix": ") ",
          "delete_cmd_prefix": "rm(",
          "library": "var_list.r",
          "varRefreshCmd": "cat(var_dic_list()) "
        }
      },
      "types_to_exclude": [
        "module",
        "function",
        "builtin_function_or_method",
        "instance",
        "_Feature"
      ],
      "window_display": false
    },
    "colab": {
      "name": "Nico Naufal_Summit_8.ipynb",
      "provenance": [],
      "include_colab_link": true
    }
  },
  "cells": [
    {
      "cell_type": "markdown",
      "metadata": {
        "id": "view-in-github",
        "colab_type": "text"
      },
      "source": [
        "<a href=\"https://colab.research.google.com/github/niconaufal21/MachineLearning/blob/master/Nico_Naufal_Summit_8.ipynb\" target=\"_parent\"><img src=\"https://colab.research.google.com/assets/colab-badge.svg\" alt=\"Open In Colab\"/></a>"
      ]
    },
    {
      "cell_type": "code",
      "metadata": {
        "id": "fc6f10bd"
      },
      "source": [
        "import pandas as pd\n",
        "import numpy as np"
      ],
      "id": "fc6f10bd",
      "execution_count": null,
      "outputs": []
    },
    {
      "cell_type": "code",
      "metadata": {
        "id": "fe42fb10",
        "outputId": "fe2f30c1-c0ca-489b-a027-a6051a3c7bda"
      },
      "source": [
        "df = pd.DataFrame({\n",
        "    'pendapatan_rata_rata': [5, 10, 20, 8, 4, 6, 12, 15],\n",
        "    'penjualan_pizza':[27,46,73,40,30,28,46,59]\n",
        "})\n",
        "\n",
        "df"
      ],
      "id": "fe42fb10",
      "execution_count": null,
      "outputs": [
        {
          "data": {
            "text/html": [
              "<div>\n",
              "<style scoped>\n",
              "    .dataframe tbody tr th:only-of-type {\n",
              "        vertical-align: middle;\n",
              "    }\n",
              "\n",
              "    .dataframe tbody tr th {\n",
              "        vertical-align: top;\n",
              "    }\n",
              "\n",
              "    .dataframe thead th {\n",
              "        text-align: right;\n",
              "    }\n",
              "</style>\n",
              "<table border=\"1\" class=\"dataframe\">\n",
              "  <thead>\n",
              "    <tr style=\"text-align: right;\">\n",
              "      <th></th>\n",
              "      <th>pendapatan_rata_rata</th>\n",
              "      <th>penjualan_pizza</th>\n",
              "    </tr>\n",
              "  </thead>\n",
              "  <tbody>\n",
              "    <tr>\n",
              "      <th>0</th>\n",
              "      <td>5</td>\n",
              "      <td>27</td>\n",
              "    </tr>\n",
              "    <tr>\n",
              "      <th>1</th>\n",
              "      <td>10</td>\n",
              "      <td>46</td>\n",
              "    </tr>\n",
              "    <tr>\n",
              "      <th>2</th>\n",
              "      <td>20</td>\n",
              "      <td>73</td>\n",
              "    </tr>\n",
              "    <tr>\n",
              "      <th>3</th>\n",
              "      <td>8</td>\n",
              "      <td>40</td>\n",
              "    </tr>\n",
              "    <tr>\n",
              "      <th>4</th>\n",
              "      <td>4</td>\n",
              "      <td>30</td>\n",
              "    </tr>\n",
              "    <tr>\n",
              "      <th>5</th>\n",
              "      <td>6</td>\n",
              "      <td>28</td>\n",
              "    </tr>\n",
              "    <tr>\n",
              "      <th>6</th>\n",
              "      <td>12</td>\n",
              "      <td>46</td>\n",
              "    </tr>\n",
              "    <tr>\n",
              "      <th>7</th>\n",
              "      <td>15</td>\n",
              "      <td>59</td>\n",
              "    </tr>\n",
              "  </tbody>\n",
              "</table>\n",
              "</div>"
            ],
            "text/plain": [
              "   pendapatan_rata_rata  penjualan_pizza\n",
              "0                     5               27\n",
              "1                    10               46\n",
              "2                    20               73\n",
              "3                     8               40\n",
              "4                     4               30\n",
              "5                     6               28\n",
              "6                    12               46\n",
              "7                    15               59"
            ]
          },
          "execution_count": 98,
          "metadata": {},
          "output_type": "execute_result"
        }
      ]
    },
    {
      "cell_type": "code",
      "metadata": {
        "id": "c8b96a39"
      },
      "source": [
        "import matplotlib.pyplot as plt\n",
        "import seaborn as sns"
      ],
      "id": "c8b96a39",
      "execution_count": null,
      "outputs": []
    },
    {
      "cell_type": "markdown",
      "metadata": {
        "id": "6214cb2c"
      },
      "source": [
        "# Jika Variabel target adalah penjualan pizza"
      ],
      "id": "6214cb2c"
    },
    {
      "cell_type": "code",
      "metadata": {
        "id": "b1570ed8",
        "outputId": "586561a2-d126-4285-f495-eee601f6dfdf"
      },
      "source": [
        "sns.scatterplot(df.pendapatan_rata_rata, df.penjualan_pizza)\n",
        "plt.show()"
      ],
      "id": "b1570ed8",
      "execution_count": null,
      "outputs": [
        {
          "data": {
            "image/png": "[encoded data removed]",
            "text/plain": [
              "<Figure size 432x288 with 1 Axes>"
            ]
          },
          "metadata": {
            "needs_background": "light"
          },
          "output_type": "display_data"
        }
      ]
    },
    {
      "cell_type": "code",
      "metadata": {
        "id": "caa1f510"
      },
      "source": [
        ""
      ],
      "id": "caa1f510",
      "execution_count": null,
      "outputs": []
    },
    {
      "cell_type": "code",
      "metadata": {
        "id": "29b77278"
      },
      "source": [
        "df_backup = df.copy(deep=True)"
      ],
      "id": "29b77278",
      "execution_count": null,
      "outputs": []
    },
    {
      "cell_type": "code",
      "metadata": {
        "id": "958347e7"
      },
      "source": [
        "df_backup['x-x_mean'] = df_backup.pendapatan_rata_rata - np.mean(df_backup.pendapatan_rata_rata)\n",
        "df_backup['y-y_mean'] = df.penjualan_pizza - np.mean(df.penjualan_pizza)"
      ],
      "id": "958347e7",
      "execution_count": null,
      "outputs": []
    },
    {
      "cell_type": "code",
      "metadata": {
        "id": "6309d34d",
        "outputId": "312a5d20-e975-4c39-a650-ef4b084fbff1"
      },
      "source": [
        "df_backup"
      ],
      "id": "6309d34d",
      "execution_count": null,
      "outputs": [
        {
          "data": {
            "text/html": [
              "<div>\n",
              "<style scoped>\n",
              "    .dataframe tbody tr th:only-of-type {\n",
              "        vertical-align: middle;\n",
              "    }\n",
              "\n",
              "    .dataframe tbody tr th {\n",
              "        vertical-align: top;\n",
              "    }\n",
              "\n",
              "    .dataframe thead th {\n",
              "        text-align: right;\n",
              "    }\n",
              "</style>\n",
              "<table border=\"1\" class=\"dataframe\">\n",
              "  <thead>\n",
              "    <tr style=\"text-align: right;\">\n",
              "      <th></th>\n",
              "      <th>pendapatan_rata_rata</th>\n",
              "      <th>penjualan_pizza</th>\n",
              "      <th>x-x_mean</th>\n",
              "      <th>y-y_mean</th>\n",
              "    </tr>\n",
              "  </thead>\n",
              "  <tbody>\n",
              "    <tr>\n",
              "      <th>0</th>\n",
              "      <td>5</td>\n",
              "      <td>27</td>\n",
              "      <td>-5.0</td>\n",
              "      <td>-16.625</td>\n",
              "    </tr>\n",
              "    <tr>\n",
              "      <th>1</th>\n",
              "      <td>10</td>\n",
              "      <td>46</td>\n",
              "      <td>0.0</td>\n",
              "      <td>2.375</td>\n",
              "    </tr>\n",
              "    <tr>\n",
              "      <th>2</th>\n",
              "      <td>20</td>\n",
              "      <td>73</td>\n",
              "      <td>10.0</td>\n",
              "      <td>29.375</td>\n",
              "    </tr>\n",
              "    <tr>\n",
              "      <th>3</th>\n",
              "      <td>8</td>\n",
              "      <td>40</td>\n",
              "      <td>-2.0</td>\n",
              "      <td>-3.625</td>\n",
              "    </tr>\n",
              "    <tr>\n",
              "      <th>4</th>\n",
              "      <td>4</td>\n",
              "      <td>30</td>\n",
              "      <td>-6.0</td>\n",
              "      <td>-13.625</td>\n",
              "    </tr>\n",
              "    <tr>\n",
              "      <th>5</th>\n",
              "      <td>6</td>\n",
              "      <td>28</td>\n",
              "      <td>-4.0</td>\n",
              "      <td>-15.625</td>\n",
              "    </tr>\n",
              "    <tr>\n",
              "      <th>6</th>\n",
              "      <td>12</td>\n",
              "      <td>46</td>\n",
              "      <td>2.0</td>\n",
              "      <td>2.375</td>\n",
              "    </tr>\n",
              "    <tr>\n",
              "      <th>7</th>\n",
              "      <td>15</td>\n",
              "      <td>59</td>\n",
              "      <td>5.0</td>\n",
              "      <td>15.375</td>\n",
              "    </tr>\n",
              "  </tbody>\n",
              "</table>\n",
              "</div>"
            ],
            "text/plain": [
              "   pendapatan_rata_rata  penjualan_pizza  x-x_mean  y-y_mean\n",
              "0                     5               27      -5.0   -16.625\n",
              "1                    10               46       0.0     2.375\n",
              "2                    20               73      10.0    29.375\n",
              "3                     8               40      -2.0    -3.625\n",
              "4                     4               30      -6.0   -13.625\n",
              "5                     6               28      -4.0   -15.625\n",
              "6                    12               46       2.0     2.375\n",
              "7                    15               59       5.0    15.375"
            ]
          },
          "execution_count": 103,
          "metadata": {},
          "output_type": "execute_result"
        }
      ]
    },
    {
      "cell_type": "code",
      "metadata": {
        "id": "ced9d187"
      },
      "source": [
        "df_backup['(x-x_mean) * (y-y_mean)'] = df_backup['x-x_mean']* df_backup['y-y_mean']\n",
        "df_backup['(x-x_mean)^2'] = df_backup['x-x_mean']**2"
      ],
      "id": "ced9d187",
      "execution_count": null,
      "outputs": []
    },
    {
      "cell_type": "code",
      "metadata": {
        "scrolled": true,
        "id": "bc3a6139",
        "outputId": "7c857437-2f28-47a3-9d3b-ff585de107b2"
      },
      "source": [
        "df_backup"
      ],
      "id": "bc3a6139",
      "execution_count": null,
      "outputs": [
        {
          "data": {
            "text/html": [
              "<div>\n",
              "<style scoped>\n",
              "    .dataframe tbody tr th:only-of-type {\n",
              "        vertical-align: middle;\n",
              "    }\n",
              "\n",
              "    .dataframe tbody tr th {\n",
              "        vertical-align: top;\n",
              "    }\n",
              "\n",
              "    .dataframe thead th {\n",
              "        text-align: right;\n",
              "    }\n",
              "</style>\n",
              "<table border=\"1\" class=\"dataframe\">\n",
              "  <thead>\n",
              "    <tr style=\"text-align: right;\">\n",
              "      <th></th>\n",
              "      <th>pendapatan_rata_rata</th>\n",
              "      <th>penjualan_pizza</th>\n",
              "      <th>x-x_mean</th>\n",
              "      <th>y-y_mean</th>\n",
              "      <th>(x-x_mean) * (y-y_mean)</th>\n",
              "      <th>(x-x_mean)^2</th>\n",
              "    </tr>\n",
              "  </thead>\n",
              "  <tbody>\n",
              "    <tr>\n",
              "      <th>0</th>\n",
              "      <td>5</td>\n",
              "      <td>27</td>\n",
              "      <td>-5.0</td>\n",
              "      <td>-16.625</td>\n",
              "      <td>83.125</td>\n",
              "      <td>25.0</td>\n",
              "    </tr>\n",
              "    <tr>\n",
              "      <th>1</th>\n",
              "      <td>10</td>\n",
              "      <td>46</td>\n",
              "      <td>0.0</td>\n",
              "      <td>2.375</td>\n",
              "      <td>0.000</td>\n",
              "      <td>0.0</td>\n",
              "    </tr>\n",
              "    <tr>\n",
              "      <th>2</th>\n",
              "      <td>20</td>\n",
              "      <td>73</td>\n",
              "      <td>10.0</td>\n",
              "      <td>29.375</td>\n",
              "      <td>293.750</td>\n",
              "      <td>100.0</td>\n",
              "    </tr>\n",
              "    <tr>\n",
              "      <th>3</th>\n",
              "      <td>8</td>\n",
              "      <td>40</td>\n",
              "      <td>-2.0</td>\n",
              "      <td>-3.625</td>\n",
              "      <td>7.250</td>\n",
              "      <td>4.0</td>\n",
              "    </tr>\n",
              "    <tr>\n",
              "      <th>4</th>\n",
              "      <td>4</td>\n",
              "      <td>30</td>\n",
              "      <td>-6.0</td>\n",
              "      <td>-13.625</td>\n",
              "      <td>81.750</td>\n",
              "      <td>36.0</td>\n",
              "    </tr>\n",
              "    <tr>\n",
              "      <th>5</th>\n",
              "      <td>6</td>\n",
              "      <td>28</td>\n",
              "      <td>-4.0</td>\n",
              "      <td>-15.625</td>\n",
              "      <td>62.500</td>\n",
              "      <td>16.0</td>\n",
              "    </tr>\n",
              "    <tr>\n",
              "      <th>6</th>\n",
              "      <td>12</td>\n",
              "      <td>46</td>\n",
              "      <td>2.0</td>\n",
              "      <td>2.375</td>\n",
              "      <td>4.750</td>\n",
              "      <td>4.0</td>\n",
              "    </tr>\n",
              "    <tr>\n",
              "      <th>7</th>\n",
              "      <td>15</td>\n",
              "      <td>59</td>\n",
              "      <td>5.0</td>\n",
              "      <td>15.375</td>\n",
              "      <td>76.875</td>\n",
              "      <td>25.0</td>\n",
              "    </tr>\n",
              "  </tbody>\n",
              "</table>\n",
              "</div>"
            ],
            "text/plain": [
              "   pendapatan_rata_rata  penjualan_pizza  x-x_mean  y-y_mean  \\\n",
              "0                     5               27      -5.0   -16.625   \n",
              "1                    10               46       0.0     2.375   \n",
              "2                    20               73      10.0    29.375   \n",
              "3                     8               40      -2.0    -3.625   \n",
              "4                     4               30      -6.0   -13.625   \n",
              "5                     6               28      -4.0   -15.625   \n",
              "6                    12               46       2.0     2.375   \n",
              "7                    15               59       5.0    15.375   \n",
              "\n",
              "   (x-x_mean) * (y-y_mean)  (x-x_mean)^2  \n",
              "0                   83.125          25.0  \n",
              "1                    0.000           0.0  \n",
              "2                  293.750         100.0  \n",
              "3                    7.250           4.0  \n",
              "4                   81.750          36.0  \n",
              "5                   62.500          16.0  \n",
              "6                    4.750           4.0  \n",
              "7                   76.875          25.0  "
            ]
          },
          "execution_count": 105,
          "metadata": {},
          "output_type": "execute_result"
        }
      ]
    },
    {
      "cell_type": "code",
      "metadata": {
        "id": "389fcb47",
        "outputId": "69caf646-fa37-4e9c-8cf9-26d288065442"
      },
      "source": [
        "df_backup.columns"
      ],
      "id": "389fcb47",
      "execution_count": null,
      "outputs": [
        {
          "data": {
            "text/plain": [
              "Index(['pendapatan_rata_rata', 'penjualan_pizza', 'x-x_mean', 'y-y_mean',\n",
              "       '(x-x_mean) * (y-y_mean)', '(x-x_mean)^2'],\n",
              "      dtype='object')"
            ]
          },
          "execution_count": 106,
          "metadata": {},
          "output_type": "execute_result"
        }
      ]
    },
    {
      "cell_type": "code",
      "metadata": {
        "id": "dea54bce",
        "outputId": "bdb20a44-982d-4142-ac2f-9b2fd29a8c1e"
      },
      "source": [
        "b1 = np.sum(df_backup['(x-x_mean) * (y-y_mean)']) / np.sum(df_backup['(x-x_mean)^2'])\n",
        "b1"
      ],
      "id": "dea54bce",
      "execution_count": null,
      "outputs": [
        {
          "data": {
            "text/plain": [
              "2.9047619047619047"
            ]
          },
          "execution_count": 107,
          "metadata": {},
          "output_type": "execute_result"
        }
      ]
    },
    {
      "cell_type": "code",
      "metadata": {
        "id": "e5605253",
        "outputId": "b6b50855-bc1c-4b50-caab-c5268d707035"
      },
      "source": [
        "b0 = np.mean(df_backup.penjualan_pizza) - b1*np.mean(df_backup.pendapatan_rata_rata)\n",
        "b0"
      ],
      "id": "e5605253",
      "execution_count": null,
      "outputs": [
        {
          "data": {
            "text/plain": [
              "14.577380952380953"
            ]
          },
          "execution_count": 118,
          "metadata": {},
          "output_type": "execute_result"
        }
      ]
    },
    {
      "cell_type": "code",
      "metadata": {
        "id": "22a3e90c"
      },
      "source": [
        "def y(input_x):\n",
        "    return b0 + b1*input_x"
      ],
      "id": "22a3e90c",
      "execution_count": null,
      "outputs": []
    },
    {
      "cell_type": "code",
      "metadata": {
        "scrolled": false,
        "id": "89f78723",
        "outputId": "a925d9c2-012c-4db9-e0b5-334a3796f4af"
      },
      "source": [
        "plt.figure(figsize=(12,5))\n",
        "X = np.arange(1, 30, 1)\n",
        "sns.scatterplot(df.pendapatan_rata_rata, df.penjualan_pizza)\n",
        "plt.plot(X, y(X), c='red')\n",
        "plt.show()"
      ],
      "id": "89f78723",
      "execution_count": null,
      "outputs": [
        {
          "data": {
            "image/png": "[encoded data removed]",
            "text/plain": [
              "<Figure size 864x360 with 1 Axes>"
            ]
          },
          "metadata": {
            "needs_background": "light"
          },
          "output_type": "display_data"
        }
      ]
    },
    {
      "cell_type": "code",
      "metadata": {
        "id": "b03fea07",
        "outputId": "b80c7494-e995-40a5-92a5-434bd21323b4"
      },
      "source": [
        "df['y_predict'] = y(df_backup.pendapatan_rata_rata)\n",
        "df"
      ],
      "id": "b03fea07",
      "execution_count": null,
      "outputs": [
        {
          "data": {
            "text/html": [
              "<div>\n",
              "<style scoped>\n",
              "    .dataframe tbody tr th:only-of-type {\n",
              "        vertical-align: middle;\n",
              "    }\n",
              "\n",
              "    .dataframe tbody tr th {\n",
              "        vertical-align: top;\n",
              "    }\n",
              "\n",
              "    .dataframe thead th {\n",
              "        text-align: right;\n",
              "    }\n",
              "</style>\n",
              "<table border=\"1\" class=\"dataframe\">\n",
              "  <thead>\n",
              "    <tr style=\"text-align: right;\">\n",
              "      <th></th>\n",
              "      <th>pendapatan_rata_rata</th>\n",
              "      <th>penjualan_pizza</th>\n",
              "      <th>y_predict</th>\n",
              "    </tr>\n",
              "  </thead>\n",
              "  <tbody>\n",
              "    <tr>\n",
              "      <th>0</th>\n",
              "      <td>5</td>\n",
              "      <td>27</td>\n",
              "      <td>29.101190</td>\n",
              "    </tr>\n",
              "    <tr>\n",
              "      <th>1</th>\n",
              "      <td>10</td>\n",
              "      <td>46</td>\n",
              "      <td>43.625000</td>\n",
              "    </tr>\n",
              "    <tr>\n",
              "      <th>2</th>\n",
              "      <td>20</td>\n",
              "      <td>73</td>\n",
              "      <td>72.672619</td>\n",
              "    </tr>\n",
              "    <tr>\n",
              "      <th>3</th>\n",
              "      <td>8</td>\n",
              "      <td>40</td>\n",
              "      <td>37.815476</td>\n",
              "    </tr>\n",
              "    <tr>\n",
              "      <th>4</th>\n",
              "      <td>4</td>\n",
              "      <td>30</td>\n",
              "      <td>26.196429</td>\n",
              "    </tr>\n",
              "    <tr>\n",
              "      <th>5</th>\n",
              "      <td>6</td>\n",
              "      <td>28</td>\n",
              "      <td>32.005952</td>\n",
              "    </tr>\n",
              "    <tr>\n",
              "      <th>6</th>\n",
              "      <td>12</td>\n",
              "      <td>46</td>\n",
              "      <td>49.434524</td>\n",
              "    </tr>\n",
              "    <tr>\n",
              "      <th>7</th>\n",
              "      <td>15</td>\n",
              "      <td>59</td>\n",
              "      <td>58.148810</td>\n",
              "    </tr>\n",
              "  </tbody>\n",
              "</table>\n",
              "</div>"
            ],
            "text/plain": [
              "   pendapatan_rata_rata  penjualan_pizza  y_predict\n",
              "0                     5               27  29.101190\n",
              "1                    10               46  43.625000\n",
              "2                    20               73  72.672619\n",
              "3                     8               40  37.815476\n",
              "4                     4               30  26.196429\n",
              "5                     6               28  32.005952\n",
              "6                    12               46  49.434524\n",
              "7                    15               59  58.148810"
            ]
          },
          "execution_count": 111,
          "metadata": {},
          "output_type": "execute_result"
        }
      ]
    },
    {
      "cell_type": "code",
      "metadata": {
        "id": "006dafc1"
      },
      "source": [
        "df['SSE'] = (df.penjualan_pizza - df.y_predict)**2\n",
        "df['SST'] = (df.penjualan_pizza - np.mean(df.penjualan_pizza))**2"
      ],
      "id": "006dafc1",
      "execution_count": null,
      "outputs": []
    },
    {
      "cell_type": "code",
      "metadata": {
        "id": "a3d15aee",
        "outputId": "a3f1eaa8-052a-4e5b-d4a6-5e444e2692c9"
      },
      "source": [
        "df"
      ],
      "id": "a3d15aee",
      "execution_count": null,
      "outputs": [
        {
          "data": {
            "text/html": [
              "<div>\n",
              "<style scoped>\n",
              "    .dataframe tbody tr th:only-of-type {\n",
              "        vertical-align: middle;\n",
              "    }\n",
              "\n",
              "    .dataframe tbody tr th {\n",
              "        vertical-align: top;\n",
              "    }\n",
              "\n",
              "    .dataframe thead th {\n",
              "        text-align: right;\n",
              "    }\n",
              "</style>\n",
              "<table border=\"1\" class=\"dataframe\">\n",
              "  <thead>\n",
              "    <tr style=\"text-align: right;\">\n",
              "      <th></th>\n",
              "      <th>pendapatan_rata_rata</th>\n",
              "      <th>penjualan_pizza</th>\n",
              "      <th>y_predict</th>\n",
              "      <th>SSE</th>\n",
              "      <th>SST</th>\n",
              "    </tr>\n",
              "  </thead>\n",
              "  <tbody>\n",
              "    <tr>\n",
              "      <th>0</th>\n",
              "      <td>5</td>\n",
              "      <td>27</td>\n",
              "      <td>29.101190</td>\n",
              "      <td>4.415001</td>\n",
              "      <td>276.390625</td>\n",
              "    </tr>\n",
              "    <tr>\n",
              "      <th>1</th>\n",
              "      <td>10</td>\n",
              "      <td>46</td>\n",
              "      <td>43.625000</td>\n",
              "      <td>5.640625</td>\n",
              "      <td>5.640625</td>\n",
              "    </tr>\n",
              "    <tr>\n",
              "      <th>2</th>\n",
              "      <td>20</td>\n",
              "      <td>73</td>\n",
              "      <td>72.672619</td>\n",
              "      <td>0.107178</td>\n",
              "      <td>862.890625</td>\n",
              "    </tr>\n",
              "    <tr>\n",
              "      <th>3</th>\n",
              "      <td>8</td>\n",
              "      <td>40</td>\n",
              "      <td>37.815476</td>\n",
              "      <td>4.772144</td>\n",
              "      <td>13.140625</td>\n",
              "    </tr>\n",
              "    <tr>\n",
              "      <th>4</th>\n",
              "      <td>4</td>\n",
              "      <td>30</td>\n",
              "      <td>26.196429</td>\n",
              "      <td>14.467156</td>\n",
              "      <td>185.640625</td>\n",
              "    </tr>\n",
              "    <tr>\n",
              "      <th>5</th>\n",
              "      <td>6</td>\n",
              "      <td>28</td>\n",
              "      <td>32.005952</td>\n",
              "      <td>16.047654</td>\n",
              "      <td>244.140625</td>\n",
              "    </tr>\n",
              "    <tr>\n",
              "      <th>6</th>\n",
              "      <td>12</td>\n",
              "      <td>46</td>\n",
              "      <td>49.434524</td>\n",
              "      <td>11.795954</td>\n",
              "      <td>5.640625</td>\n",
              "    </tr>\n",
              "    <tr>\n",
              "      <th>7</th>\n",
              "      <td>15</td>\n",
              "      <td>59</td>\n",
              "      <td>58.148810</td>\n",
              "      <td>0.724525</td>\n",
              "      <td>236.390625</td>\n",
              "    </tr>\n",
              "  </tbody>\n",
              "</table>\n",
              "</div>"
            ],
            "text/plain": [
              "   pendapatan_rata_rata  penjualan_pizza  y_predict        SSE         SST\n",
              "0                     5               27  29.101190   4.415001  276.390625\n",
              "1                    10               46  43.625000   5.640625    5.640625\n",
              "2                    20               73  72.672619   0.107178  862.890625\n",
              "3                     8               40  37.815476   4.772144   13.140625\n",
              "4                     4               30  26.196429  14.467156  185.640625\n",
              "5                     6               28  32.005952  16.047654  244.140625\n",
              "6                    12               46  49.434524  11.795954    5.640625\n",
              "7                    15               59  58.148810   0.724525  236.390625"
            ]
          },
          "execution_count": 113,
          "metadata": {},
          "output_type": "execute_result"
        }
      ]
    },
    {
      "cell_type": "code",
      "metadata": {
        "id": "35b4752b",
        "outputId": "70e1a87e-6404-4b38-9f65-c794124bd0f2"
      },
      "source": [
        "r2 = 1 - (np.sum(df.SSE)/np.sum(df.SST))\n",
        "r2"
      ],
      "id": "35b4752b",
      "execution_count": null,
      "outputs": [
        {
          "data": {
            "text/plain": [
              "0.9683201103380077"
            ]
          },
          "execution_count": 114,
          "metadata": {},
          "output_type": "execute_result"
        }
      ]
    },
    {
      "cell_type": "code",
      "metadata": {
        "id": "2c2fd7ce",
        "outputId": "f7c107ed-8aad-4ad0-d34b-c5a4352f319e"
      },
      "source": [
        "np.sum(df.SSE)"
      ],
      "id": "2c2fd7ce",
      "execution_count": null,
      "outputs": [
        {
          "data": {
            "text/plain": [
              "57.97023809523811"
            ]
          },
          "execution_count": 115,
          "metadata": {},
          "output_type": "execute_result"
        }
      ]
    },
    {
      "cell_type": "code",
      "metadata": {
        "id": "91fd5f71",
        "outputId": "69bd7cef-c7f9-42cc-b639-f817c5ead5b0"
      },
      "source": [
        "np.sum(df.SST)"
      ],
      "id": "91fd5f71",
      "execution_count": null,
      "outputs": [
        {
          "data": {
            "text/plain": [
              "1829.875"
            ]
          },
          "execution_count": 116,
          "metadata": {},
          "output_type": "execute_result"
        }
      ]
    },
    {
      "cell_type": "code",
      "metadata": {
        "id": "47a4438f"
      },
      "source": [
        ""
      ],
      "id": "47a4438f",
      "execution_count": null,
      "outputs": []
    }
  ]
}