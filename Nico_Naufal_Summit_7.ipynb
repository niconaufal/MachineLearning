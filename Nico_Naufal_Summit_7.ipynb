{
  "nbformat": 4,
  "nbformat_minor": 0,
  "metadata": {
    "colab": {
      "name": "Nico_Naufal_Summit_7.ipynb",
      "provenance": [],
      "include_colab_link": true
    },
    "kernelspec": {
      "name": "python3",
      "display_name": "Python 3"
    },
    "language_info": {
      "name": "python"
    }
  },
  "cells": [
    {
      "cell_type": "markdown",
      "metadata": {
        "id": "view-in-github",
        "colab_type": "text"
      },
      "source": [
        "<a href=\"https://colab.research.google.com/github/niconaufal21/MachineLearning/blob/master/Nico_Naufal_Summit_7.ipynb\" target=\"_parent\"><img src=\"https://colab.research.google.com/assets/colab-badge.svg\" alt=\"Open In Colab\"/></a>"
      ]
    },
    {
      "cell_type": "code",
      "metadata": {
        "id": "xRJ1Efpa9VjU"
      },
      "source": [
        "import pandas as pd\n",
        "import numpy as np\n",
        "from scipy.cluster import hierarchy\n",
        "import matplotlib.pyplot as plt\n",
        "import math "
      ],
      "execution_count": null,
      "outputs": []
    },
    {
      "cell_type": "code",
      "metadata": {
        "id": "RxQWUiBC81Dh"
      },
      "source": [
        "\n",
        "Sumbu = [(0.40,0.53),(0.22,0.38),(0.35,0.32),(0.26,\n",
        "          0.19),(0.08,0.41),(0.45,0.40)]\n",
        "             \n"
      ],
      "execution_count": null,
      "outputs": []
    },
    {
      "cell_type": "code",
      "metadata": {
        "id": "oEsLnKcoV5pF"
      },
      "source": [
        "data = pd.DataFrame(Sumbu, columns = ['X' , 'Y'], index=['P1', 'P2', 'P3' , 'P4' , 'P5' , 'P6'])"
      ],
      "execution_count": null,
      "outputs": []
    },
    {
      "cell_type": "code",
      "metadata": {
        "id": "x1fjrvroDf5H"
      },
      "source": [
        "from sklearn.metrics.pairwise import euclidean_distances\n"
      ],
      "execution_count": null,
      "outputs": []
    },
    {
      "cell_type": "code",
      "metadata": {
        "colab": {
          "base_uri": "https://localhost:8080/"
        },
        "id": "M9lvhVlhLMoc",
        "outputId": "b56cd986-627b-4d87-8486-4077447caefa"
      },
      "source": [
        "\n",
        "Sumbu = [[0.40,0.53],[0.22,0.38],[0.35,0.32],[0.26,\n",
        "          0.19],[0.08,0.41],[0.45,0.40]]\n",
        "            \n",
        "euclidean_distances(Sumbu, [[0,0],[0,1]])\n"
      ],
      "execution_count": null,
      "outputs": [
        {
          "output_type": "execute_result",
          "data": {
            "text/plain": [
              "array([[0.66400301, 0.61717096],\n",
              "       [0.43908997, 0.65787537],\n",
              "       [0.47423623, 0.76478755],\n",
              "       [0.32202484, 0.85070559],\n",
              "       [0.41773197, 0.59539903],\n",
              "       [0.60207973, 0.75      ]])"
            ]
          },
          "metadata": {},
          "execution_count": 8
        }
      ]
    },
    {
      "cell_type": "code",
      "metadata": {
        "colab": {
          "base_uri": "https://localhost:8080/",
          "height": 284
        },
        "id": "9V8f6vvbLJq6",
        "outputId": "f9d6d69e-17df-41ac-b521-cb5cfc03500a"
      },
      "source": [
        "Z = hierarchy.linkage(data, method='complete')\n",
        "  \n",
        "plt.figure()\n",
        "plt.title(\"Dendrogram\")\n",
        "  \n",
        "dendrogram = hierarchy.dendrogram(Z)\n",
        "             \n"
      ],
      "execution_count": null,
      "outputs": [
        {
          "output_type": "display_data",
          "data": {
            "image/png": "[encoded data removed]",
            "text/plain": [
              "<Figure size 432x288 with 1 Axes>"
            ]
          },
          "metadata": {
            "needs_background": "light"
          }
        }
      ]
    }
  ]
}